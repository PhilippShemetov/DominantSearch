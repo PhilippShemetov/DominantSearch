{
 "cells": [
  {
   "cell_type": "code",
   "execution_count": 1,
   "metadata": {},
   "outputs": [
    {
     "name": "stdout",
     "output_type": "stream",
     "text": [
      "Requirement already satisfied: opencv-python in /home/shemetov@ad.speechpro.com/.local/lib/python3.8/site-packages (4.6.0.66)\n",
      "Requirement already satisfied: numpy>=1.17.3; python_version >= \"3.8\" in /home/shemetov@ad.speechpro.com/.local/lib/python3.8/site-packages (from opencv-python) (1.22.4)\n",
      "Note: you may need to restart the kernel to use updated packages.\n"
     ]
    }
   ],
   "source": [
    "%pip install opencv-python"
   ]
  },
  {
   "cell_type": "code",
   "execution_count": 2,
   "metadata": {},
   "outputs": [],
   "source": [
    "import pandas as pd \n",
    "import numpy as np\n",
    "import cv2"
   ]
  },
  {
   "cell_type": "code",
   "execution_count": 3,
   "metadata": {},
   "outputs": [],
   "source": [
    "#set_of_video = ['IS1000a','IS1001a','IS1001b','IS1001c','IS1003b','IS1003d','IS1006b','IS1008a',\n",
    "#                'IS1008b','IS1008c','IS1008d']"
   ]
  },
  {
   "cell_type": "code",
   "execution_count": 7,
   "metadata": {},
   "outputs": [],
   "source": [
    "\n",
    "annot_data = pd.read_csv('dome_annotations_M1.csv')\n",
    "dome_dataset = pd.read_csv('dome_dataset_M1.csv')\n",
    "dome_dataset\n",
    "annot_data = annot_data.join(dome_dataset['FMD'])\n",
    "annot_data = annot_data.join(dome_dataset['FLD'])\n",
    "annot_data = annot_data.drop(annot_data[annot_data.FMD == 0].index)\n"
   ]
  },
  {
   "cell_type": "code",
   "execution_count": null,
   "metadata": {},
   "outputs": [],
   "source": [
    "set_of_video = sorted(list(set(annot_data['name'].values)))\n",
    "set_of_video\n"
   ]
  },
  {
   "cell_type": "code",
   "execution_count": null,
   "metadata": {},
   "outputs": [],
   "source": [
    "for name_video_folder in set_of_video:\n",
    "  vidcap = cv2.VideoCapture('amicorpus/' + name_video_folder + '/video/IS1000a.Closeup1.avi')\n",
    "success,image = vidcap.read()\n",
    "count = 0\n",
    "while success:\n",
    "  cv2.imwrite(\"test/frame%d.jpg\" % count, image)     # save frame as JPEG file      \n",
    "  success,image = vidcap.read()\n",
    "  count += 1"
   ]
  },
  {
   "cell_type": "code",
   "execution_count": null,
   "metadata": {},
   "outputs": [],
   "source": [
    "for file_path in set_of_classes:\n",
    "    list_of_files = sorted(glob.glob('./CREMA-D/VideoFlash/*' + file_path + '*.flv'))\n",
    "    count = 0\n",
    "    for video_path in list_of_files:\n",
    "        order_var = re.findall(r'\\d{1,5}',video_path)[0]\n",
    "        cap = cv2.VideoCapture(video_path)\n",
    "        success,image = cap.read()\n",
    "        while success:\n",
    "            #print(\"CREMA-D/ImageClass/\" + file_path + \"/\" + order_var + \"_frame%d.jpg\" % count)\n",
    "            cv2.imwrite(\"CREMA-D/ImageClass/\" + file_path + \"/\" + order_var + \"_frame%d.jpg\" % count, image)\n",
    "            success,image = cap.read()\n",
    "            count += 1"
   ]
  }
 ],
 "metadata": {
  "kernelspec": {
   "display_name": "Python 3.8.10 64-bit",
   "language": "python",
   "name": "python3"
  },
  "language_info": {
   "codemirror_mode": {
    "name": "ipython",
    "version": 3
   },
   "file_extension": ".py",
   "mimetype": "text/x-python",
   "name": "python",
   "nbconvert_exporter": "python",
   "pygments_lexer": "ipython3",
   "version": "3.8.10"
  },
  "orig_nbformat": 4,
  "vscode": {
   "interpreter": {
    "hash": "916dbcbb3f70747c44a77c7bcd40155683ae19c65e1c03b4aa3499c5328201f1"
   }
  }
 },
 "nbformat": 4,
 "nbformat_minor": 2
}
